{
 "cells": [
  {
   "cell_type": "markdown",
   "id": "94409dbf",
   "metadata": {},
   "source": [
    "Video tutorial:https://www.youtube.com/watch?v=NtzDjNhPZgU\n",
    "\n"
   ]
  },
  {
   "cell_type": "code",
   "execution_count": 132,
   "id": "607248fd",
   "metadata": {},
   "outputs": [],
   "source": [
    "#Library\n",
    "from pytube import YouTube\n",
    "import base64\n",
    "import requests"
   ]
  },
  {
   "cell_type": "markdown",
   "id": "2fb288b8",
   "metadata": {},
   "source": [
    "### Code"
   ]
  },
  {
   "cell_type": "code",
   "execution_count": 133,
   "id": "b1bf6823",
   "metadata": {},
   "outputs": [],
   "source": [
    "url = \"https://www.youtube.com/watch?v=IzRGy4dvJpA\" "
   ]
  },
  {
   "cell_type": "code",
   "execution_count": 134,
   "id": "015ef125",
   "metadata": {},
   "outputs": [],
   "source": [
    "def on_complete(stream, file_path):\n",
    "    print('Complete')\n",
    "    print('Stream: ',stream)\n",
    "    print('File path: ', file_path)\n",
    "    print('End')\n",
    "    \n",
    "    return file_path\n",
    "\n",
    "def on_progress(stream, chunk, bytes_remaining):\n",
    "    print('Downloading...',(stream.filesize-bytes_remaining)/stream.filesize * 100)"
   ]
  },
  {
   "cell_type": "code",
   "execution_count": 125,
   "id": "a34f9cfa",
   "metadata": {},
   "outputs": [],
   "source": [
    "# We create the object\n",
    "video_object= YouTube(url, \n",
    "                      on_complete_callback = on_complete,\n",
    "                     on_progress_callback = on_progress)"
   ]
  },
  {
   "cell_type": "code",
   "execution_count": 126,
   "id": "093ea962",
   "metadata": {},
   "outputs": [],
   "source": [
    "# extract only audio\n",
    "video = video_object.streams.filter(only_audio=True).first()\n",
    "# download the file\n",
    "file_path = video.download()"
   ]
  },
  {
   "cell_type": "code",
   "execution_count": 136,
   "id": "25941387",
   "metadata": {},
   "outputs": [
    {
     "name": "stdout",
     "output_type": "stream",
     "text": [
      "Downloading... 100.0\n",
      "Complete\n",
      "Stream:  <Stream: itag=\"140\" mime_type=\"audio/mp4\" abr=\"128kbps\" acodec=\"mp4a.40.2\" progressive=\"False\" type=\"audio\">\n",
      "File path:  /Users/pedrorodriguezdeledesmajimenez/scripts/Youtube_downloader/Kate Bush - Running Up That Hill (HQ Audio Remastered) Stranger Things S4.mp4\n",
      "End\n"
     ]
    }
   ],
   "source": [
    "file_path = video_object.streams.get_audio_only().download()"
   ]
  },
  {
   "cell_type": "code",
   "execution_count": 127,
   "id": "d8cd0639",
   "metadata": {},
   "outputs": [
    {
     "name": "stdout",
     "output_type": "stream",
     "text": [
      "Complete\n",
      "Stream:  <Stream: itag=\"139\" mime_type=\"audio/mp4\" abr=\"48kbps\" acodec=\"mp4a.40.5\" progressive=\"False\" type=\"audio\">\n",
      "File path:  /Users/pedrorodriguezdeledesmajimenez/scripts/Youtube_downloader/Kate Bush - Running Up That Hill (HQ Audio Remastered) Stranger Things S4.mp4\n",
      "End\n"
     ]
    }
   ],
   "source": []
  },
  {
   "cell_type": "code",
   "execution_count": 102,
   "id": "75c262a5",
   "metadata": {},
   "outputs": [
    {
     "name": "stdout",
     "output_type": "stream",
     "text": [
      "Downloading... 60.62098912485669\n",
      "Downloading... 100.0\n",
      "Complete\n",
      "Stream:  <Stream: itag=\"22\" mime_type=\"video/mp4\" res=\"720p\" fps=\"30fps\" vcodec=\"avc1.64001F\" acodec=\"mp4a.40.2\" progressive=\"True\" type=\"video\">\n",
      "File path:  /Users/pedrorodriguezdeledesmajimenez/scripts/Youtube_downloader/Kate Bush - Running Up That Hill (HQ Audio Remastered) Stranger Things S4.mp4\n",
      "End\n"
     ]
    }
   ],
   "source": [
    "------------------\n",
    "# Download VIDEO the object\n",
    "file_path = video_object.streams.get_highest_resolution().download()"
   ]
  },
  {
   "cell_type": "code",
   "execution_count": 128,
   "id": "9de905b2",
   "metadata": {},
   "outputs": [
    {
     "data": {
      "text/plain": [
       "'/Users/pedrorodriguezdeledesmajimenez/scripts/Youtube_downloader/Kate Bush - Running Up That Hill (HQ Audio Remastered) Stranger Things S4.mp4'"
      ]
     },
     "execution_count": 128,
     "metadata": {},
     "output_type": "execute_result"
    }
   ],
   "source": [
    "file_path"
   ]
  },
  {
   "cell_type": "markdown",
   "id": "0aa13bbd",
   "metadata": {},
   "source": [
    "---------"
   ]
  },
  {
   "cell_type": "code",
   "execution_count": 9,
   "id": "4c205f8d",
   "metadata": {},
   "outputs": [
    {
     "name": "stdout",
     "output_type": "stream",
     "text": [
      "MoviePy - Writing audio in /Users/pedrorodriguezdeledesmajimenez/scripts/Youtube_downloader/Why Do We Fall - Motivational Video.mp3\n"
     ]
    },
    {
     "name": "stderr",
     "output_type": "stream",
     "text": [
      "                                                                                                    "
     ]
    },
    {
     "name": "stdout",
     "output_type": "stream",
     "text": [
      "MoviePy - Done.\n"
     ]
    },
    {
     "name": "stderr",
     "output_type": "stream",
     "text": [
      "\r"
     ]
    }
   ],
   "source": [
    "# Convertin file into audio. same file\n",
    "\n",
    "import os\n",
    "import sys\n",
    "from moviepy.editor import VideoFileClip\n",
    "\n",
    "def convert_video_to_audio_moviepy(video_file, output_ext=\"mp3\"):\n",
    "    \"\"\"Converts video to audio using MoviePy library\n",
    "    that uses `ffmpeg` under the hood\"\"\"\n",
    "    filename, ext = os.path.splitext(video_file)\n",
    "    clip = VideoFileClip(video_file)\n",
    "    clip.audio.write_audiofile(f\"{filename}.{output_ext}\")\n",
    "    \n",
    "vf = file_path\n",
    "convert_video_to_audio_moviepy(vf)"
   ]
  },
  {
   "cell_type": "code",
   "execution_count": 137,
   "id": "93e0e940",
   "metadata": {},
   "outputs": [
    {
     "name": "stdout",
     "output_type": "stream",
     "text": [
      "<class 'str'>\n",
      "5.016666666666667 minutes\n"
     ]
    }
   ],
   "source": [
    "print(type(video_object.title))\n",
    "print(f'{video_object.length/60} minutes')"
   ]
  },
  {
   "cell_type": "code",
   "execution_count": 144,
   "id": "50bd80eb",
   "metadata": {},
   "outputs": [
    {
     "data": {
      "text/plain": [
       "'/Users/pedrorodriguezdeledesmajimenez/Movies/Download_Video/Kate Bush - Running Up That Hill (HQ Audio Remastered) Stranger Things S4test'"
      ]
     },
     "execution_count": 144,
     "metadata": {},
     "output_type": "execute_result"
    }
   ],
   "source": [
    "from pathlib import Path\n",
    "file_path = Path('/Users/pedrorodriguezdeledesmajimenez/Movies/Download_Video')\n",
    "name = str(file_path) + \"/\" +video_object.title + \"test\"\n",
    "name"
   ]
  },
  {
   "cell_type": "code",
   "execution_count": 130,
   "id": "c80796e5",
   "metadata": {},
   "outputs": [
    {
     "data": {
      "text/plain": [
       "301"
      ]
     },
     "execution_count": 130,
     "metadata": {},
     "output_type": "execute_result"
    }
   ],
   "source": [
    "video_object.length"
   ]
  },
  {
   "cell_type": "code",
   "execution_count": 81,
   "id": "68db35f8",
   "metadata": {},
   "outputs": [
    {
     "name": "stdout",
     "output_type": "stream",
     "text": [
      "File path:  /Users/pedrorodriguezdeledesmajimenez/scripts/Youtube_downloader/Kate Bush - Running Up That Hill (HQ Audio Remastered) Stranger Things S4.mp4\n"
     ]
    }
   ],
   "source": [
    "print(\"File path: \",file_path)"
   ]
  },
  {
   "cell_type": "markdown",
   "id": "87994f57",
   "metadata": {},
   "source": [
    "### Intento  recortar "
   ]
  },
  {
   "cell_type": "code",
   "execution_count": 115,
   "id": "3084400e",
   "metadata": {},
   "outputs": [],
   "source": [
    "from pydub import AudioSegment"
   ]
  },
  {
   "cell_type": "code",
   "execution_count": 119,
   "id": "6048a25c",
   "metadata": {},
   "outputs": [
    {
     "name": "stdout",
     "output_type": "stream",
     "text": [
      "5.016666666666667 minutes and 301 seg\n"
     ]
    }
   ],
   "source": [
    "#importing file from location by giving its path\n",
    "try:\n",
    "    sound = AudioSegment.from_file(file_path, \"mp3\")\n",
    "except:\n",
    "    sound = AudioSegment.from_file(file_path, format=\"mp4\")\n",
    "    \n",
    "#Selecting Portion we want to cut\n",
    "StrtMin = 0\n",
    "StrtSec = 0\n",
    "\n",
    "EndMin = 0\n",
    "EndSec = video_object.length #en segundos\n",
    "\n",
    "print(f'{video_object.length/60} minutes and {video_object.length} seg')\n",
    "\n",
    "# Time to milliseconds conversion\n",
    "StrtTime = StrtMin*60*1000+StrtSec*1000\n",
    "EndTime = StrtMin*60*1000+EndSec*1000"
   ]
  },
  {
   "cell_type": "code",
   "execution_count": 120,
   "id": "5dec93cd",
   "metadata": {},
   "outputs": [],
   "source": [
    "# Opening file and extracting portion of it\n",
    "extract = sound[StrtTime:EndTime]"
   ]
  },
  {
   "cell_type": "code",
   "execution_count": 145,
   "id": "b14cd4e5",
   "metadata": {},
   "outputs": [
    {
     "data": {
      "text/plain": [
       "<_io.BufferedRandom name='TEST_CUT.mp4'>"
      ]
     },
     "execution_count": 145,
     "metadata": {},
     "output_type": "execute_result"
    }
   ],
   "source": [
    "# Saving file in required location\n",
    "extract.export(\"TEST_CUT.mp4\", format=\"mp4\")\n",
    "\n",
    "# new file portion.mp3 is saved at required location"
   ]
  },
  {
   "cell_type": "code",
   "execution_count": 86,
   "id": "8a4fa8a8",
   "metadata": {},
   "outputs": [
    {
     "name": "stdout",
     "output_type": "stream",
     "text": [
      "301.03510204081635\n"
     ]
    }
   ],
   "source": [
    "from mutagen.mp3 import MP3\n",
    "audio = MP3(\"TEST_CUT.mp3\")\n",
    "print(audio.info.length)"
   ]
  },
  {
   "cell_type": "code",
   "execution_count": 87,
   "id": "9c934b6b",
   "metadata": {},
   "outputs": [
    {
     "name": "stdout",
     "output_type": "stream",
     "text": [
      "['audio']\n",
      "['mp3']\n",
      "['audio/mpeg']\n"
     ]
    }
   ],
   "source": [
    "import fleep\n",
    "\n",
    "with open(\"TEST_CUT.mp3\", \"rb\") as file:\n",
    "    info = fleep.get(file.read(128))\n",
    "\n",
    "print(info.type)\n",
    "print(info.extension)\n",
    "print(info.mime) "
   ]
  },
  {
   "cell_type": "markdown",
   "id": "991731fb",
   "metadata": {},
   "source": [
    "### API SHAZAM"
   ]
  },
  {
   "cell_type": "code",
   "execution_count": 56,
   "id": "c457953c",
   "metadata": {},
   "outputs": [],
   "source": [
    "payload = \"/Users/pedrorodriguezdeledesmajimenez/CodingProjects/Youtube_downloader/The Kings of Connaught - The Rocky Road to Dublin.mp3\""
   ]
  },
  {
   "cell_type": "code",
   "execution_count": 57,
   "id": "6f4f556d",
   "metadata": {},
   "outputs": [],
   "source": [
    "payload3 = \"/Users/pedrorodriguezdeledesmajimenez/CodingProjects/Youtube_downloader/20220521 110825.m4a\""
   ]
  },
  {
   "cell_type": "code",
   "execution_count": 58,
   "id": "ba7384e5",
   "metadata": {},
   "outputs": [],
   "source": [
    "payload = payload3"
   ]
  },
  {
   "cell_type": "code",
   "execution_count": 69,
   "id": "d54deea5",
   "metadata": {},
   "outputs": [
    {
     "name": "stdout",
     "output_type": "stream",
     "text": [
      "SIZE:  157\n",
      "{\"matches\":[],\"timestamp\":1653145354992,\"timezone\":\"America/Chicago\",\"tagid\":\"e66153b2-c6da-489f-a7ce-c52100c524ae\"}\n"
     ]
    }
   ],
   "source": [
    "url = \"https://shazam.p.rapidapi.com/songs/detect\"\n",
    "\n",
    "message_bytes = payload.encode('ascii')\n",
    "base64_bytes = base64.b64encode(message_bytes)\n",
    "\n",
    "print('SIZE: ',sys.getsizeof(base64_bytes))\n",
    "\n",
    "headers = {\n",
    "    \"content-type\": \"text/plain\",\n",
    "    \"X-RapidAPI-Host\": \"shazam.p.rapidapi.com\",\n",
    "    \"X-RapidAPI-Key\": \"2b5b3f1915msh25cfe548727c38dp165370jsn2c747e1c8261\"\n",
    "}\n",
    "\n",
    "response = requests.request(\"POST\", url, data=base64_bytes, headers=headers)\n",
    "\n",
    "print(response.text)"
   ]
  }
 ],
 "metadata": {
  "kernelspec": {
   "display_name": "Python 3 (ipykernel)",
   "language": "python",
   "name": "python3"
  },
  "language_info": {
   "codemirror_mode": {
    "name": "ipython",
    "version": 3
   },
   "file_extension": ".py",
   "mimetype": "text/x-python",
   "name": "python",
   "nbconvert_exporter": "python",
   "pygments_lexer": "ipython3",
   "version": "3.8.2"
  }
 },
 "nbformat": 4,
 "nbformat_minor": 5
}
