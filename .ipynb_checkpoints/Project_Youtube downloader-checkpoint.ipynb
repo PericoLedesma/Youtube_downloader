{
 "cells": [
  {
   "cell_type": "markdown",
   "id": "94409dbf",
   "metadata": {},
   "source": [
    "Video tutorial:https://www.youtube.com/watch?v=NtzDjNhPZgU\n",
    "\n"
   ]
  },
  {
   "cell_type": "code",
   "execution_count": 1,
   "id": "607248fd",
   "metadata": {},
   "outputs": [],
   "source": [
    "#Library\n",
    "from pytube import YouTube"
   ]
  },
  {
   "cell_type": "markdown",
   "id": "2fb288b8",
   "metadata": {},
   "source": [
    "### Code"
   ]
  },
  {
   "cell_type": "code",
   "execution_count": 83,
   "id": "8791042c",
   "metadata": {},
   "outputs": [],
   "source": [
    "url = \"https://www.youtube.com/watch?v=668nUCeBHyY\"\n",
    "url = \"https://www.youtube.com/watch?v=mgmVOuLgFB0\""
   ]
  },
  {
   "cell_type": "code",
   "execution_count": 84,
   "id": "a555f843",
   "metadata": {},
   "outputs": [],
   "source": [
    "def on_complete(stream, file_path):\n",
    "    print('Complete')\n",
    "    print('Stream: ',stream)\n",
    "    print('File path: ', file_path)\n",
    "    print('End')\n",
    "    \n",
    "    return file_path"
   ]
  },
  {
   "cell_type": "code",
   "execution_count": 95,
   "id": "26ec46c0",
   "metadata": {},
   "outputs": [],
   "source": [
    "def on_progress(stream, chunk, bytes_remaining):\n",
    "    print('Downloading...',(stream.filesize-bytes_remaining)/stream.filesize * 100)\n",
    "    "
   ]
  },
  {
   "cell_type": "code",
   "execution_count": 96,
   "id": "66ecf5bf",
   "metadata": {},
   "outputs": [],
   "source": [
    "video_object= YouTube(url, \n",
    "                      on_complete_callback = on_complete,\n",
    "                     on_progress_callback = on_progress)"
   ]
  },
  {
   "cell_type": "code",
   "execution_count": 97,
   "id": "b87b3c22",
   "metadata": {},
   "outputs": [
    {
     "data": {
      "text/plain": [
       "<pytube.__main__.YouTube object: videoId=mgmVOuLgFB0>"
      ]
     },
     "execution_count": 97,
     "metadata": {},
     "output_type": "execute_result"
    }
   ],
   "source": [
    "video_object"
   ]
  },
  {
   "cell_type": "code",
   "execution_count": 98,
   "id": "0cb8bca6",
   "metadata": {},
   "outputs": [],
   "source": [
    "#video_object.__dict__"
   ]
  },
  {
   "cell_type": "code",
   "execution_count": 99,
   "id": "26fc9541",
   "metadata": {},
   "outputs": [
    {
     "name": "stdout",
     "output_type": "stream",
     "text": [
      "Why Do We Fall - Motivational Video\n",
      "6.233333333333333 minutes\n",
      "78137598\n",
      "Mateusz M\n"
     ]
    }
   ],
   "source": [
    "#Video Information\n",
    "print(video_object.title)\n",
    "print(f'{video_object.length/60} minutes')\n",
    "print(video_object.views)\n",
    "print(video_object.author)\n",
    "#print(video_object.description)"
   ]
  },
  {
   "cell_type": "code",
   "execution_count": 101,
   "id": "5adc4c17",
   "metadata": {},
   "outputs": [
    {
     "data": {
      "text/plain": [
       "<Stream: itag=\"22\" mime_type=\"video/mp4\" res=\"720p\" fps=\"30fps\" vcodec=\"avc1.64001F\" acodec=\"mp4a.40.2\" progressive=\"True\" type=\"video\">"
      ]
     },
     "execution_count": 101,
     "metadata": {},
     "output_type": "execute_result"
    }
   ],
   "source": [
    "# To get the one with higher distribution\n",
    "video_object.streams.get_highest_resolution()"
   ]
  },
  {
   "cell_type": "code",
   "execution_count": 102,
   "id": "9ca15c6c",
   "metadata": {},
   "outputs": [
    {
     "data": {
      "text/plain": [
       "<Stream: itag=\"140\" mime_type=\"audio/mp4\" abr=\"128kbps\" acodec=\"mp4a.40.2\" progressive=\"False\" type=\"audio\">"
      ]
     },
     "execution_count": 102,
     "metadata": {},
     "output_type": "execute_result"
    }
   ],
   "source": [
    "video_object.streams.get_audio_only()"
   ]
  },
  {
   "cell_type": "code",
   "execution_count": 103,
   "id": "74e76710",
   "metadata": {},
   "outputs": [
    {
     "name": "stdout",
     "output_type": "stream",
     "text": [
      "Downloading... 11.620324594392455\n",
      "Downloading... 23.24064918878491\n",
      "Downloading... 34.86097378317737\n",
      "Downloading... 46.48129837756982\n",
      "Downloading... 58.101622971962286\n",
      "Downloading... 69.72194756635474\n",
      "Downloading... 81.3422721607472\n",
      "Downloading... 92.96259675513964\n",
      "Downloading... 100.0\n",
      "Complete\n",
      "Stream:  <Stream: itag=\"22\" mime_type=\"video/mp4\" res=\"720p\" fps=\"30fps\" vcodec=\"avc1.64001F\" acodec=\"mp4a.40.2\" progressive=\"True\" type=\"video\">\n",
      "File path:  /Users/pedrorodriguezdeledesmajimenez/CodingProjects/Why Do We Fall - Motivational Video.mp4\n",
      "End\n"
     ]
    },
    {
     "data": {
      "text/plain": [
       "'/Users/pedrorodriguezdeledesmajimenez/CodingProjects/Why Do We Fall - Motivational Video.mp4'"
      ]
     },
     "execution_count": 103,
     "metadata": {},
     "output_type": "execute_result"
    }
   ],
   "source": [
    "# Download\n",
    "file_path = video_object.streams.get_highest_resolution().download()\n"
   ]
  },
  {
   "cell_type": "code",
   "execution_count": null,
   "id": "d3ae98aa",
   "metadata": {},
   "outputs": [],
   "source": [
    "file_path"
   ]
  },
  {
   "cell_type": "code",
   "execution_count": null,
   "id": "9065931f",
   "metadata": {},
   "outputs": [],
   "source": []
  }
 ],
 "metadata": {
  "kernelspec": {
   "display_name": "Python 3 (ipykernel)",
   "language": "python",
   "name": "python3"
  },
  "language_info": {
   "codemirror_mode": {
    "name": "ipython",
    "version": 3
   },
   "file_extension": ".py",
   "mimetype": "text/x-python",
   "name": "python",
   "nbconvert_exporter": "python",
   "pygments_lexer": "ipython3",
   "version": "3.8.2"
  }
 },
 "nbformat": 4,
 "nbformat_minor": 5
}
